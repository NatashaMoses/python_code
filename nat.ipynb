{
 "cells": [
  {
   "cell_type": "markdown",
   "metadata": {},
   "source": [
    "### **Python Comments**\n",
    "\n",
    "Comments give a brief explanation of what the code does.  \n",
    "They are not executed when the code runs.  \n",
    "Comments begin with a #  \n",
    "For Multiline comments, you can use **#** for each line or ***\"\"\"***"
   ]
  },
  {
   "cell_type": "code",
   "execution_count": 2,
   "metadata": {},
   "outputs": [
    {
     "name": "stdout",
     "output_type": "stream",
     "text": [
      "Python is Fun!\n",
      "I love coding\n"
     ]
    },
    {
     "data": {
      "text/plain": [
       "'\\nthis is another way\\nof writing multiline\\ncomments\\n'"
      ]
     },
     "execution_count": 2,
     "metadata": {},
     "output_type": "execute_result"
    }
   ],
   "source": [
    "#This is a comment\n",
    "print(\"Python is Fun!\")\n",
    "print(\"I love coding\") #comment at the end\n",
    "\n",
    "#comments can also be in multiple lines\n",
    "#comment1\n",
    "#comment2\n",
    "\n",
    "\"\"\"\n",
    "this is another way\n",
    "of writing multiline\n",
    "comments\n",
    "\"\"\""
   ]
  },
  {
   "cell_type": "markdown",
   "metadata": {},
   "source": [
    "### **Python Variables**\n",
    "\n",
    "These are containers for storing data.\n",
    "To create a variable you assign it to a certain value eg `x = 28` or `y = \"Alex\"`\n",
    "Here the  variable x has been assigned to the value 28.\n",
    "Variables are **case sensitive** so `x = 28` and `X = 28` are two diferent variables.\n",
    "You can specify the data types while decalring the variable **(casting)** i.e `x=int(28)` `y=str(28)` `z=float(28)`. The values will have different data types.\n",
    "To check for data type we use **type()** i.e `print(type(x))` `print(type(y))` `print(type(z))`"
   ]
  },
  {
   "cell_type": "code",
   "execution_count": 4,
   "metadata": {},
   "outputs": [
    {
     "name": "stdout",
     "output_type": "stream",
     "text": [
      "28\n",
      "Alex\n",
      "28\n",
      "<class 'int'>\n",
      "<class 'str'>\n",
      "<class 'float'>\n"
     ]
    }
   ],
   "source": [
    "#create three variables x,y,X and print\n",
    "x = 28\n",
    "y = \"Alex\"\n",
    "X = 28\n",
    "\n",
    "print(x)\n",
    "print(y)\n",
    "print(X)\n",
    "\n",
    "#create variables a,b,c by casting\n",
    "a = int(28)\n",
    "b = str(28)\n",
    "c = float(28)\n",
    "\n",
    "#data type of a,b,c\n",
    "print(type(a))\n",
    "print(type(b))\n",
    "print(type(c))"
   ]
  },
  {
   "cell_type": "markdown",
   "metadata": {},
   "source": [
    "### Variable Names\n",
    "\n",
    "There are specific rules for naming variables:  \n",
    "1.Must start with letter or _,cannot start with a number.  \n",
    "2.Can only have A-z(upper and lower case), 0-9 and _ no special characters eg *,&,$,@ etc.    \n",
    "3.Cannot be any of **python keywords**.  \n",
    "4.Are case-sensistive.  \n",
    "For variables with many words, you can use **Snake** Case, **Camel** Case, **Pascal** Case or your prefernce.\n",
    "You can use any other way to name your variables as long as the rules are satisfied."
   ]
  },
  {
   "cell_type": "code",
   "execution_count": null,
   "metadata": {},
   "outputs": [],
   "source": [
    "1var = \"Python\"     #variable cannot start with number\n",
    "my@var = \"Python\"   #cannot contain special characters eg @\n",
    "my-var = \"Python\"   #cannot contain special characters eg -\n",
    "my var = \"Python\"   #cannot have spaces\n",
    "\n",
    "year_of_birth = 2000 #Snake Case-here all words are separated by _\n",
    "yearOfBirth = 2000   #Camel Case-here all words except first start with capital letter\n",
    "YearOfBirth = 2000   #Pascal Case-here all words start with capital letter\n",
    "Year_Of_Birth = 2000 #You can also write as you prefer"
   ]
  }
 ],
 "metadata": {
  "kernelspec": {
   "display_name": ".venv",
   "language": "python",
   "name": "python3"
  },
  "language_info": {
   "codemirror_mode": {
    "name": "ipython",
    "version": 3
   },
   "file_extension": ".py",
   "mimetype": "text/x-python",
   "name": "python",
   "nbconvert_exporter": "python",
   "pygments_lexer": "ipython3",
   "version": "3.10.13"
  }
 },
 "nbformat": 4,
 "nbformat_minor": 2
}
