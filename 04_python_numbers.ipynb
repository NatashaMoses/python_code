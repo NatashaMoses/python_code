{
 "cells": [
  {
   "cell_type": "markdown",
   "metadata": {},
   "source": [
    "### Python Numbers\n",
    "\n",
    "There are of three types: `int` `float` `complex`  \n",
    "\n",
    "#### Python Integers\n",
    "\n",
    "These are whole numbers both positive and negative.  \n",
    "They are whole numbers meaning they do not include decimals.  \n",
    "Eg. `x = -283873` or `y = 474` or `z = 1`  \n",
    "\n",
    "### Python Float\n",
    "\n",
    "These are numbers positive or negative containing one or more decimal.  \n",
    "Eg. `a = -273.873463` or `b = 211.0` or `c = 244.9850`  \n",
    "They can also indicate the power of 10 using **e** or **E**  \n",
    "Eg. `A = -23.7E48` to mean -23.7*10<sub>48</sub>  \n",
    "\n",
    "### Python Complex\n",
    "\n",
    "Normall complex numbers are written in the form of a+ib where i is the imaginary part.  \n",
    "In Python, j is the imaginary part.  \n",
    "Eg. `X = 6.1j` or `Y = -2.5+4.95j` or `Z = -92j`  \n",
    "\n",
    "#### Conversion of Data Type\n",
    "\n"
   ]
  }
 ],
 "metadata": {
  "language_info": {
   "name": "python"
  }
 },
 "nbformat": 4,
 "nbformat_minor": 2
}
