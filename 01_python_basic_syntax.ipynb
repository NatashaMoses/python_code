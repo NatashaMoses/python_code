haha I am changing your code
feels good
ddsdfffffc

import math

def solve_quadratic(a, b, c):
    discriminant = b**2 - 4*a*c

    if discriminant > 0:
        root1 = (-b + math.sqrt(discriminant)) / (2*a)
        root2 = (-b - math.sqrt(discriminant)) / (2*a)
        return root1, root2
    elif discriminant == 0:
        root = -b / (2*a)
        return root
    else:
        return "No real roots"

# Example usage
a = 1
b = -3
c = 2

roots = solve_quadratic(a, b, c)
print(roots)
