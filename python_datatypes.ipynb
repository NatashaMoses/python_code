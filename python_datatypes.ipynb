{
 "cells": [
  {
   "cell_type": "markdown",
   "metadata": {},
   "source": [
    "### Python Data Types\n",
    "\n",
    "Variables are containers that store data and these data have different types.  \n",
    "Python has the following data types:  \n",
    "Text\n",
    "1. **str**      `x = \"My Name\"` or `x = str\"My Name\"`  \n",
    "Numeric  \n",
    "2. **int**      `x = 100` or `x = int(100)`  \n",
    "3. **float**    `x = 100.0` or `x = float(100)`  \n",
    "4. **complex**  `x = 5j` or `x = complex(5j)`  \n",
    "Sequence  \n",
    "5. **list**     `x = [\"cat\", \"dog\", \"hen\"]` or `x = list((\"cat\", \"dog\", \"hen\"))`  \n",
    "6. **tuple**    `x = ()\"cat\", \"dog\", \"hen\")` or `x = tuple((\"cat\", \"dog\", \"hen\"))`  \n",
    "7. **range**    `x = range(6)` or `x = range(6)`  \n",
    "Mapping  \n",
    "8. **dict**     `x = {name : \"Alex\", grade : \"B\"}` or `x = dict((name : \"Alex\", grade : \"B\"))`  \n",
    "Set  \n",
    "9. **set**      `x = {\"cat\", \"dog\", \"hen\"}` or `x = set((\"cat\", \"dog\", \"hen\"))`  \n",
    "10. **frozenset**`x = frozenset({\"cat\", \"dog\", \"hen\"})` or `x = frozenset((\"cat\", \"dog\", \"hen\"))`  \n",
    "Boolean  \n",
    "11.\n",
    "Binary\n",
    "12.\n",
    "13.\n",
    "14.\n",
    "None  \n",
    "15."
   ]
  },
  {
   "cell_type": "code",
   "execution_count": null,
   "metadata": {},
   "outputs": [],
   "source": []
  }
 ],
 "metadata": {
  "language_info": {
   "name": "python"
  }
 },
 "nbformat": 4,
 "nbformat_minor": 2
}
