{
 "cells": [
  {
   "cell_type": "markdown",
   "metadata": {},
   "source": [
    "### Python Lists\n",
    "\n",
    "Lists are among the datatypes used to store collections of data alongside Tuples, Sets and Dictionaries.  \n",
    "Lists are created using **square brackets [ ]**  \n",
    "Eg. `mylist=[\"cat\", \"dog\", \"hen\"]`  \n",
    "List items are:  \n",
    "1.**Ordered** - Have a specific order, each item in a list has a specific index.  \n",
    "2.**Mutable** - This means changeable, we can remove/add/change items in a list.  \n",
    "3.**Allow Duplicates** - Lists can have items with the same value.  \n",
    "\n"
   ]
  }
 ],
 "metadata": {
  "language_info": {
   "name": "python"
  }
 },
 "nbformat": 4,
 "nbformat_minor": 2
}
