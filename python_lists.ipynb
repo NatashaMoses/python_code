{
 "cells": [
  {
   "cell_type": "markdown",
   "metadata": {},
   "source": [
    "### Python Lists\n",
    "\n",
    "Lists are among the datatypes used to store collections of data alongside Tuples, Sets and Dictionaries.  \n",
    "Lists are created using **square brackets [ ]**  \n",
    "A list can have values of any datatype.  \n",
    "Eg. `mylist=[\"cat\", -34.7j, True]`  \n",
    "List items are:  \n",
    "1.**Ordered** - Have a specific order, each item in a list has a specific index.  \n",
    "2.**Mutable** - This means changeable, we can remove/add/change items in a list.  \n",
    "3.**Allow Duplicates** - Lists can have items with the same value.  "
   ]
  }
 ],
 "metadata": {
  "language_info": {
   "name": "python"
  }
 },
 "nbformat": 4,
 "nbformat_minor": 2
}
