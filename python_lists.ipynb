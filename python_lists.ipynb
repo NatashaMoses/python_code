{
 "cells": [
  {
   "cell_type": "markdown",
   "metadata": {},
   "source": [
    "### Python Lists\n",
    "\n",
    "Lists are among the datatypes used to store collections of data alongside Tuples, Sets and Dictionaries.  \n",
    "Lists are created using **square brackets [ ]**  \n",
    "A list can have values of any datatype.  \n",
    "Eg. `mylist=[\"cat\", -34+7j, True]`  \n",
    "List items are:  \n",
    "1.**Ordered** - Have a specific order, each item in a list has a specific index.  \n",
    "2.**Mutable** - This means changeable, we can remove/add/change items in a list.  \n",
    "3.**Allow Duplicates** - Lists can have items with the same value.  "
   ]
  },
  {
   "cell_type": "code",
   "execution_count": null,
   "metadata": {},
   "outputs": [],
   "source": [
    "mylist_1 = [True, False, True]\n",
    "mylist_2 = [\"cat\", \"dog\", \"hen\"]\n",
    "mylist_3 = [28.907, -87-32, 912.3]\n",
    "mylist_4 = [23+97j, -98.76-3j, 21+8j]\n",
    "mylist_5 = [12, 340, 45, 45, 1, 0]\n",
    "mylist_6 = [\"cat\", True, 45, 28.907, 21+8j]"
   ]
  },
  {
   "cell_type": "markdown",
   "metadata": {},
   "source": [
    "### Access List Items  \n",
    "\n"
   ]
  }
 ],
 "metadata": {
  "language_info": {
   "name": "python"
  }
 },
 "nbformat": 4,
 "nbformat_minor": 2
}
