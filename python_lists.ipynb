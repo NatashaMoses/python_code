{
 "cells": [
  {
   "cell_type": "markdown",
   "metadata": {},
   "source": [
    "### Python Lists\n",
    "\n",
    "Lists are among the datatypes used to store collections of data alongside Tuples, Sets and Dictionaries.  \n",
    "Lists are created using **square brackets [ ]**  \n",
    "A list can have values of any datatype.  \n",
    "Eg. `mylist=[\"cat\", -34+7j, True]`  \n",
    "List items are:  \n",
    "1.**Ordered** - Have a specific order, each item in a list has a specific index.  \n",
    "2.**Mutable** - This means changeable, we can remove/add/change items in a list.  \n",
    "3.**Allow Duplicates** - Lists can have items with the same value.  \n",
    "To check length of list(number of items) use **len()**"
   ]
  },
  {
   "cell_type": "code",
   "execution_count": 1,
   "metadata": {},
   "outputs": [
    {
     "name": "stdout",
     "output_type": "stream",
     "text": [
      "5\n",
      "<class 'list'>\n"
     ]
    }
   ],
   "source": [
    "mylist_1 = [True, False, True]               #bool\n",
    "mylist_2 = [\"cat\", \"dog\", \"hen\"]             #str\n",
    "mylist_3 = [28.907, -87-32, 912.3]           #float\n",
    "mylist_4 = [23+97j, -98.76-3j, 21+8j]        #complex\n",
    "mylist_5 = [12, 340, 45, 45, 1, 0]           #int\n",
    "mylist_6 = [\"cat\", True, 45, 28.907, 21+8j]  #list with different datatypes\n",
    "print(len(mylist_6))                         #returns number of items in the list\n",
    "print(type(mylist_3))\n",
    "#feel free to check length and data type of the other lists"
   ]
  },
  {
   "cell_type": "markdown",
   "metadata": {},
   "source": [
    "### Access List Items  \n",
    "\n",
    "As saide before, items in a list are ordered, each item in a list has an index.  \n",
    "The **first** item in a list has index **0**.  \n",
    "So `print(mylist[0])` will print the first item on the specified list.  \n",
    "The **second** item has index **1** etc.  \n",
    "The **last** item has index **-1**.  \n",
    "So `print(mylist[-1])` will print last item on the specified list.  \n",
    "The **second last** item has index **-2** etc.  \n",
    "To access many items from a list, separate the index with a colon.  \n",
    "Eg `print(mylist[0:2])` \n",
    "This will return items at index 0, index 1. Index 2 will be excluded.  \n",
    "So it will return first and second item in the list.  \n",
    "The same happens for `print(mylist[-4:-1])`  \n",
    "This will return items at index -4, -3 and -2 only.  \n",
    "`print(mylist[:4])` - this will return items from first item to index 3.  \n",
    "`print(mylist[2:])` - this will return items from index 2 to last item.  \n",
    ">[!NOTE]  \n",
    ">First item is index 0  \n",
    ">Last item is index -1  \n",
    ">The end value is usually excluded  \n",
    ">Eg list[1:4] will return items from index 1 to 3  "
   ]
  },
  {
   "cell_type": "code",
   "execution_count": 3,
   "metadata": {},
   "outputs": [
    {
     "name": "stdout",
     "output_type": "stream",
     "text": [
      "cat\n",
      "True\n",
      "hen\n",
      "False\n",
      "[True, 45]\n",
      "[28.907, (21+8j)]\n",
      "['cat', True, 45, 28.907]\n",
      "[28.907, (21+8j), False, 'hen']\n",
      "['cat', True, 45, 28.907, (21+8j), False, 'hen']\n",
      "45 is in the list\n"
     ]
    }
   ],
   "source": [
    "mylist_6 = [\"cat\", True, 45, 28.907, 21+8j, False, \"hen\"]\n",
    "\n",
    "print(mylist_6[0])      #first item\n",
    "print(mylist_6[1])      #second item\n",
    "\n",
    "print(mylist_6[-1])     #last iitem\n",
    "print(mylist_6[-2])     #second last item\n",
    "\n",
    "print(mylist_6[1:3])    #index one and two so second and third item\n",
    "print(mylist_6[-4:-2])  #index -4 and -3 so fourth last and third last item\n",
    "\n",
    "print(mylist_6[:4])     #start to index 3 so start to forth item\n",
    "print(mylist_6[3:])     #index 3 to last so forth item to last\n",
    "print(mylist_6[:])      #start to last\n",
    "\n",
    "#using if..else to access items in list\n",
    "#we will look at if..else later\n",
    "if 45 in mylist_6:\n",
    "        print(\"45 is in the list\")"
   ]
  },
  {
   "cell_type": "markdown",
   "metadata": {},
   "source": [
    "### Change List Items\n",
    "\n",
    "We use the index number to achieve this.  \n"
   ]
  }
 ],
 "metadata": {
  "kernelspec": {
   "display_name": "Python 3",
   "language": "python",
   "name": "python3"
  },
  "language_info": {
   "codemirror_mode": {
    "name": "ipython",
    "version": 3
   },
   "file_extension": ".py",
   "mimetype": "text/x-python",
   "name": "python",
   "nbconvert_exporter": "python",
   "pygments_lexer": "ipython3",
   "version": "3.10.13"
  }
 },
 "nbformat": 4,
 "nbformat_minor": 2
}
