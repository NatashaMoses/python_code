{
 "cells": [
  {
   "cell_type": "markdown",
   "metadata": {},
   "source": [
    "### Python Lists\n",
    "\n",
    "Lists are among the datatypes used to store collections of data alongside Tuples, Sets and Dictionaries.  \n",
    "Lists are created using **square brackets [ ]**  \n",
    "A list can have values of any datatype.  \n",
    "Eg. `mylist=[\"cat\", -34+7j, True]`  \n",
    "List items are:  \n",
    "1.**Ordered** - Have a specific order, each item in a list has a specific index.  \n",
    "2.**Mutable** - This means changeable, we can remove/add/change items in a list.  \n",
    "3.**Allow Duplicates** - Lists can have items with the same value.  \n",
    "To check length of list use **len()**"
   ]
  },
  {
   "cell_type": "code",
   "execution_count": null,
   "metadata": {},
   "outputs": [],
   "source": [
    "mylist_1 = [True, False, True]               #bool\n",
    "mylist_2 = [\"cat\", \"dog\", \"hen\"]             #str\n",
    "mylist_3 = [28.907, -87-32, 912.3]           #float\n",
    "mylist_4 = [23+97j, -98.76-3j, 21+8j]        #complex\n",
    "mylist_5 = [12, 340, 45, 45, 1, 0]           #int\n",
    "mylist_6 = [\"cat\", True, 45, 28.907, 21+8j]  #list with different datatypes\n",
    "print(len(mylist_6))\n",
    "print(type(mylist_3))\n",
    "#feel free to check length and data type of the other lists"
   ]
  },
  {
   "cell_type": "markdown",
   "metadata": {},
   "source": [
    "### Access List Items  \n",
    "\n",
    "As saide before, items in a list are ordered, each item in a list has an index.  \n",
    "The **first** item in a list has index 0. \n",
    "So `print(mylist[0])` will print the first item on the specified list.  \n",
    "The **second** item has index 1 etc.  \n",
    "The **last** item has index -1.  \n",
    "So `print(mylist[-1])` will print last item on the specified list.  \n",
    "The **second last** item has index -2 etc.  \n",
    "To access many items from a list, separate the index with a colon.  \n",
    "Eg `print(mylist[0:2])` \n",
    "This will return items at index 0, index 1. Index 2 will be excluded.  \n",
    "So it will return first and second item in the list.  \n",
    "The same happens for `print(mylist[-4:-1])`  \n",
    "This will return items at index -4, -3 and -2 only.  \n",
    "`print(mylist[:4])` - this will return items from first item to index 4.  \n",
    "`print(mylist[2:])` - this will return items from index 2 to last item.  "
   ]
  },
  {
   "cell_type": "code",
   "execution_count": null,
   "metadata": {},
   "outputs": [],
   "source": []
  }
 ],
 "metadata": {
  "language_info": {
   "name": "python"
  }
 },
 "nbformat": 4,
 "nbformat_minor": 2
}
