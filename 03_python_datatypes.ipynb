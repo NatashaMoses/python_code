{
 "cells": [
  {
   "cell_type": "markdown",
   "metadata": {},
   "source": [
    "### Python Data Types\n",
    "\n",
    "Variables are containers that store data and these data have different types.  \n",
    "You can set the data type or use contsructor functions to set specific datatype.  \n",
    "You will later on get into detail of what these data types are.  \n",
    "Python has the following 14 built-in data types:  \n",
    "\n",
    "TEXT \n",
    "1. **str**      `x = \"My Name\"` or `x = str\"My Name\"`  \n",
    "NUMERIC  \n",
    "2. **int**      `x = 100` or `x = int(100)`  \n",
    "3. **float**    `x = 100.0` or `x = float(100)`  \n",
    "4. **complex**  `x = 5j` or `x = complex(5j)`  \n",
    "SEQUENCE  \n",
    "5. **list**     `x = [\"cat\", \"dog\", \"hen\"]` or `x = list((\"cat\", \"dog\", \"hen\"))`  \n",
    "6. **tuple**    `x = (\"cat\", \"dog\", \"hen\")` or `x = tuple((\"cat\", \"dog\", \"hen\"))`  \n",
    "7. **range**    `x = range(6)` or `x = range(6)`  \n",
    "MAPPING  \n",
    "8. **dict**     `x = {\"name\" : \"Alex\", \"grade\" : \"B\"}` or `x = dict((\"name\" : \"Alex\", \"grade\" : \"B\"))`  \n",
    "SET  \n",
    "9. **set**      `x = {\"cat\", \"dog\", \"hen\"}` or `x = set((\"cat\", \"dog\", \"hen\"))`  \n",
    "10. **frozenset**`x = frozenset({\"cat\", \"dog\", \"hen\"})` or `x = frozenset((\"cat\", \"dog\", \"hen\"))`  \n",
    "BOOLEAN  \n",
    "11. **bool**     `x = True` or `x = bool(5)`  \n",
    "BINARY  \n",
    "12. **bytes**     `x = bytes(5)`\n",
    "13. **bytearray** `x = bytearray(5)`  \n",
    "14. **memoryview**`x = memoryview(bytes(5))`  \n",
    "NONE   \n",
    "15. **none**       `x = None`  "
   ]
  },
  {
   "cell_type": "code",
   "execution_count": 1,
   "metadata": {},
   "outputs": [
    {
     "name": "stdout",
     "output_type": "stream",
     "text": [
      "<class 'str'>\n",
      "<class 'int'>\n",
      "<class 'complex'>\n",
      "<class 'list'>\n",
      "<class 'tuple'>\n",
      "<class 'range'>\n",
      "<class 'dict'>\n",
      "<class 'set'>\n",
      "<class 'frozenset'>\n",
      "<class 'bool'>\n",
      "<class 'bytes'>\n",
      "<class 'bytearray'>\n",
      "<class 'memoryview'>\n",
      "<class 'NoneType'>\n"
     ]
    }
   ],
   "source": [
    "#how to set the data type\n",
    "a = \"My Name\"                           #string\n",
    "b = 100                                 #integer\n",
    "c = 5j                                  #complex\n",
    "d = [\"cat\", \"dog\", \"hen\"]               #list\n",
    "e = (\"cat\", \"dog\", \"hen\")               #tuple\n",
    "f = range(6)                            #range\n",
    "g = {\"name\" : \"Alex\", \"grade\" : \"B\"}    #dictionary\n",
    "h = {\"cat\", \"dog\", \"hen\"}               #set\n",
    "i = frozenset({\"cat\", \"dog\", \"hen\"})    #frozenset\n",
    "j = bool(5)                             #boolean\n",
    "k = bytes(5)                            #bytes\n",
    "l = bytearray(5)                        #bytearray\n",
    "m = memoryview(bytes(5))                #memoryview\n",
    "n = None                                #NoneType\n",
    "\n",
    "print(type(a))\n",
    "print(type(b))\n",
    "print(type(c))\n",
    "print(type(d))\n",
    "print(type(e))\n",
    "print(type(f))\n",
    "print(type(g))\n",
    "print(type(h))\n",
    "print(type(i))\n",
    "print(type(j))\n",
    "print(type(k))\n",
    "print(type(l))\n",
    "print(type(m))\n",
    "print(type(n))"
   ]
  }
 ],
 "metadata": {
  "kernelspec": {
   "display_name": "Python 3",
   "language": "python",
   "name": "python3"
  },
  "language_info": {
   "codemirror_mode": {
    "name": "ipython",
    "version": 3
   },
   "file_extension": ".py",
   "mimetype": "text/x-python",
   "name": "python",
   "nbconvert_exporter": "python",
   "pygments_lexer": "ipython3",
   "version": "3.10.13"
  }
 },
 "nbformat": 4,
 "nbformat_minor": 2
}
